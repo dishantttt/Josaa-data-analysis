{
  "metadata": {
    "language_info": {
      "codemirror_mode": {
        "name": "python",
        "version": 3
      },
      "file_extension": ".py",
      "mimetype": "text/x-python",
      "name": "python",
      "nbconvert_exporter": "python",
      "pygments_lexer": "ipython3",
      "version": "3.8"
    },
    "kernelspec": {
      "name": "python",
      "display_name": "Python (Pyodide)",
      "language": "python"
    }
  },
  "nbformat_minor": 4,
  "nbformat": 4,
  "cells": [
    {
      "cell_type": "code",
      "source": "import numpy as np\nimport pandas as pd",
      "metadata": {
        "trusted": true
      },
      "execution_count": 44,
      "outputs": []
    },
    {
      "cell_type": "code",
      "source": "df=pd.read_csv('data.csv')",
      "metadata": {
        "trusted": true
      },
      "execution_count": 45,
      "outputs": []
    },
    {
      "cell_type": "code",
      "source": "df.columns",
      "metadata": {
        "trusted": true
      },
      "execution_count": 46,
      "outputs": [
        {
          "execution_count": 46,
          "output_type": "execute_result",
          "data": {
            "text/plain": "Index(['Unnamed: 0', 'Institute', 'Academic Program Name', 'Quota',\n       'Seat Type', 'Gender', 'Opening Rank', 'Closing Rank', 'Year', 'Round'],\n      dtype='object')"
          },
          "metadata": {}
        }
      ]
    },
    {
      "cell_type": "code",
      "source": "df.dtypes\n",
      "metadata": {
        "trusted": true
      },
      "execution_count": 47,
      "outputs": [
        {
          "execution_count": 47,
          "output_type": "execute_result",
          "data": {
            "text/plain": "Unnamed: 0                int64\nInstitute                object\nAcademic Program Name    object\nQuota                    object\nSeat Type                object\nGender                   object\nOpening Rank             object\nClosing Rank             object\nYear                      int64\nRound                     int64\ndtype: object"
          },
          "metadata": {}
        }
      ]
    },
    {
      "cell_type": "code",
      "source": "df.describe()",
      "metadata": {
        "trusted": true
      },
      "execution_count": 48,
      "outputs": [
        {
          "execution_count": 48,
          "output_type": "execute_result",
          "data": {
            "text/plain": "         Unnamed: 0          Year         Round\ncount  89436.000000  89436.000000  89436.000000\nmean   44717.500000   2019.478868      3.822778\nstd    25818.093675      1.861970      1.822341\nmin        0.000000   2016.000000      1.000000\n25%    22358.750000   2018.000000      2.000000\n50%    44717.500000   2020.000000      4.000000\n75%    67076.250000   2021.000000      5.000000\nmax    89435.000000   2022.000000      7.000000",
            "text/html": "<div>\n<style scoped>\n    .dataframe tbody tr th:only-of-type {\n        vertical-align: middle;\n    }\n\n    .dataframe tbody tr th {\n        vertical-align: top;\n    }\n\n    .dataframe thead th {\n        text-align: right;\n    }\n</style>\n<table border=\"1\" class=\"dataframe\">\n  <thead>\n    <tr style=\"text-align: right;\">\n      <th></th>\n      <th>Unnamed: 0</th>\n      <th>Year</th>\n      <th>Round</th>\n    </tr>\n  </thead>\n  <tbody>\n    <tr>\n      <th>count</th>\n      <td>89436.000000</td>\n      <td>89436.000000</td>\n      <td>89436.000000</td>\n    </tr>\n    <tr>\n      <th>mean</th>\n      <td>44717.500000</td>\n      <td>2019.478868</td>\n      <td>3.822778</td>\n    </tr>\n    <tr>\n      <th>std</th>\n      <td>25818.093675</td>\n      <td>1.861970</td>\n      <td>1.822341</td>\n    </tr>\n    <tr>\n      <th>min</th>\n      <td>0.000000</td>\n      <td>2016.000000</td>\n      <td>1.000000</td>\n    </tr>\n    <tr>\n      <th>25%</th>\n      <td>22358.750000</td>\n      <td>2018.000000</td>\n      <td>2.000000</td>\n    </tr>\n    <tr>\n      <th>50%</th>\n      <td>44717.500000</td>\n      <td>2020.000000</td>\n      <td>4.000000</td>\n    </tr>\n    <tr>\n      <th>75%</th>\n      <td>67076.250000</td>\n      <td>2021.000000</td>\n      <td>5.000000</td>\n    </tr>\n    <tr>\n      <th>max</th>\n      <td>89435.000000</td>\n      <td>2022.000000</td>\n      <td>7.000000</td>\n    </tr>\n  </tbody>\n</table>\n</div>"
          },
          "metadata": {}
        }
      ]
    },
    {
      "cell_type": "code",
      "source": "df.shape",
      "metadata": {
        "trusted": true
      },
      "execution_count": 49,
      "outputs": [
        {
          "execution_count": 49,
          "output_type": "execute_result",
          "data": {
            "text/plain": "(89436, 10)"
          },
          "metadata": {}
        }
      ]
    },
    {
      "cell_type": "code",
      "source": "df=df[[ 'Institute', 'Academic Program Name', 'Quota',\n       'Seat Type', 'Gender', 'Opening Rank', 'Closing Rank', 'Year', 'Round']].copy()",
      "metadata": {
        "trusted": true
      },
      "execution_count": 50,
      "outputs": []
    },
    {
      "cell_type": "code",
      "source": "df[['Quota']]",
      "metadata": {
        "trusted": true
      },
      "execution_count": 51,
      "outputs": [
        {
          "execution_count": 51,
          "output_type": "execute_result",
          "data": {
            "text/plain": "      Quota\n0        AI\n1        AI\n2        AI\n3        AI\n4        AI\n...     ...\n89431    AI\n89432    AI\n89433    AI\n89434    AI\n89435    AI\n\n[89436 rows x 1 columns]",
            "text/html": "<div>\n<style scoped>\n    .dataframe tbody tr th:only-of-type {\n        vertical-align: middle;\n    }\n\n    .dataframe tbody tr th {\n        vertical-align: top;\n    }\n\n    .dataframe thead th {\n        text-align: right;\n    }\n</style>\n<table border=\"1\" class=\"dataframe\">\n  <thead>\n    <tr style=\"text-align: right;\">\n      <th></th>\n      <th>Quota</th>\n    </tr>\n  </thead>\n  <tbody>\n    <tr>\n      <th>0</th>\n      <td>AI</td>\n    </tr>\n    <tr>\n      <th>1</th>\n      <td>AI</td>\n    </tr>\n    <tr>\n      <th>2</th>\n      <td>AI</td>\n    </tr>\n    <tr>\n      <th>3</th>\n      <td>AI</td>\n    </tr>\n    <tr>\n      <th>4</th>\n      <td>AI</td>\n    </tr>\n    <tr>\n      <th>...</th>\n      <td>...</td>\n    </tr>\n    <tr>\n      <th>89431</th>\n      <td>AI</td>\n    </tr>\n    <tr>\n      <th>89432</th>\n      <td>AI</td>\n    </tr>\n    <tr>\n      <th>89433</th>\n      <td>AI</td>\n    </tr>\n    <tr>\n      <th>89434</th>\n      <td>AI</td>\n    </tr>\n    <tr>\n      <th>89435</th>\n      <td>AI</td>\n    </tr>\n  </tbody>\n</table>\n<p>89436 rows × 1 columns</p>\n</div>"
          },
          "metadata": {}
        }
      ]
    },
    {
      "cell_type": "code",
      "source": "df['Quota'].str.contains('AI').sum()",
      "metadata": {
        "trusted": true
      },
      "execution_count": 52,
      "outputs": [
        {
          "execution_count": 52,
          "output_type": "execute_result",
          "data": {
            "text/plain": "89436"
          },
          "metadata": {}
        }
      ]
    },
    {
      "cell_type": "code",
      "source": "df=df.drop('Quota',axis=1)",
      "metadata": {
        "trusted": true
      },
      "execution_count": 53,
      "outputs": []
    },
    {
      "cell_type": "code",
      "source": "df.isna().sum()",
      "metadata": {
        "trusted": true
      },
      "execution_count": 54,
      "outputs": [
        {
          "execution_count": 54,
          "output_type": "execute_result",
          "data": {
            "text/plain": "Institute                    0\nAcademic Program Name        0\nSeat Type                    0\nGender                   15285\nOpening Rank                 0\nClosing Rank                 0\nYear                         0\nRound                        0\ndtype: int64"
          },
          "metadata": {}
        }
      ]
    },
    {
      "cell_type": "code",
      "source": "df.head()",
      "metadata": {
        "trusted": true
      },
      "execution_count": 55,
      "outputs": [
        {
          "execution_count": 55,
          "output_type": "execute_result",
          "data": {
            "text/plain": "                                    Institute  \\\n0  Indian Institute of Technology Bhubaneswar   \n1  Indian Institute of Technology Bhubaneswar   \n2  Indian Institute of Technology Bhubaneswar   \n3  Indian Institute of Technology Bhubaneswar   \n4  Indian Institute of Technology Bhubaneswar   \n\n                               Academic Program Name Seat Type Gender  \\\n0  Civil Engineering (4 Years, Bachelor of Techno...      OPEN    NaN   \n1  Civil Engineering (4 Years, Bachelor of Techno...   OBC-NCL    NaN   \n2  Civil Engineering (4 Years, Bachelor of Techno...        SC    NaN   \n3  Civil Engineering (4 Years, Bachelor of Techno...        ST    NaN   \n4  Civil Engineering and M. Tech. in Structural E...      OPEN    NaN   \n\n  Opening Rank Closing Rank  Year  Round  \n0       3533.0       5947.0  2016      1  \n1       1829.0       2213.0  2016      1  \n2        663.0       1023.0  2016      1  \n3        331.0        357.0  2016      1  \n4       5408.0       6561.0  2016      1  ",
            "text/html": "<div>\n<style scoped>\n    .dataframe tbody tr th:only-of-type {\n        vertical-align: middle;\n    }\n\n    .dataframe tbody tr th {\n        vertical-align: top;\n    }\n\n    .dataframe thead th {\n        text-align: right;\n    }\n</style>\n<table border=\"1\" class=\"dataframe\">\n  <thead>\n    <tr style=\"text-align: right;\">\n      <th></th>\n      <th>Institute</th>\n      <th>Academic Program Name</th>\n      <th>Seat Type</th>\n      <th>Gender</th>\n      <th>Opening Rank</th>\n      <th>Closing Rank</th>\n      <th>Year</th>\n      <th>Round</th>\n    </tr>\n  </thead>\n  <tbody>\n    <tr>\n      <th>0</th>\n      <td>Indian Institute of Technology Bhubaneswar</td>\n      <td>Civil Engineering (4 Years, Bachelor of Techno...</td>\n      <td>OPEN</td>\n      <td>NaN</td>\n      <td>3533.0</td>\n      <td>5947.0</td>\n      <td>2016</td>\n      <td>1</td>\n    </tr>\n    <tr>\n      <th>1</th>\n      <td>Indian Institute of Technology Bhubaneswar</td>\n      <td>Civil Engineering (4 Years, Bachelor of Techno...</td>\n      <td>OBC-NCL</td>\n      <td>NaN</td>\n      <td>1829.0</td>\n      <td>2213.0</td>\n      <td>2016</td>\n      <td>1</td>\n    </tr>\n    <tr>\n      <th>2</th>\n      <td>Indian Institute of Technology Bhubaneswar</td>\n      <td>Civil Engineering (4 Years, Bachelor of Techno...</td>\n      <td>SC</td>\n      <td>NaN</td>\n      <td>663.0</td>\n      <td>1023.0</td>\n      <td>2016</td>\n      <td>1</td>\n    </tr>\n    <tr>\n      <th>3</th>\n      <td>Indian Institute of Technology Bhubaneswar</td>\n      <td>Civil Engineering (4 Years, Bachelor of Techno...</td>\n      <td>ST</td>\n      <td>NaN</td>\n      <td>331.0</td>\n      <td>357.0</td>\n      <td>2016</td>\n      <td>1</td>\n    </tr>\n    <tr>\n      <th>4</th>\n      <td>Indian Institute of Technology Bhubaneswar</td>\n      <td>Civil Engineering and M. Tech. in Structural E...</td>\n      <td>OPEN</td>\n      <td>NaN</td>\n      <td>5408.0</td>\n      <td>6561.0</td>\n      <td>2016</td>\n      <td>1</td>\n    </tr>\n  </tbody>\n</table>\n</div>"
          },
          "metadata": {}
        }
      ]
    },
    {
      "cell_type": "code",
      "source": "df['Gender']",
      "metadata": {
        "trusted": true
      },
      "execution_count": 56,
      "outputs": [
        {
          "execution_count": 56,
          "output_type": "execute_result",
          "data": {
            "text/plain": "0                                          NaN\n1                                          NaN\n2                                          NaN\n3                                          NaN\n4                                          NaN\n                         ...                  \n89431    Female-only (including Supernumerary)\n89432                           Gender-Neutral\n89433    Female-only (including Supernumerary)\n89434                           Gender-Neutral\n89435    Female-only (including Supernumerary)\nName: Gender, Length: 89436, dtype: object"
          },
          "metadata": {}
        }
      ]
    },
    {
      "cell_type": "code",
      "source": "df['Gender']=df['Gender'].fillna('Gender-Neutral')",
      "metadata": {
        "trusted": true
      },
      "execution_count": 57,
      "outputs": []
    },
    {
      "cell_type": "code",
      "source": "df.dtypes",
      "metadata": {
        "trusted": true
      },
      "execution_count": 58,
      "outputs": [
        {
          "execution_count": 58,
          "output_type": "execute_result",
          "data": {
            "text/plain": "Institute                object\nAcademic Program Name    object\nSeat Type                object\nGender                   object\nOpening Rank             object\nClosing Rank             object\nYear                      int64\nRound                     int64\ndtype: object"
          },
          "metadata": {}
        }
      ]
    },
    {
      "cell_type": "code",
      "source": "df=df.assign(Preparatory=False)",
      "metadata": {
        "trusted": true
      },
      "execution_count": 59,
      "outputs": []
    },
    {
      "cell_type": "code",
      "source": "df['Opening Rank'].str.contains('P').sum()",
      "metadata": {
        "trusted": true
      },
      "execution_count": 60,
      "outputs": [
        {
          "execution_count": 60,
          "output_type": "execute_result",
          "data": {
            "text/plain": "4910"
          },
          "metadata": {}
        }
      ]
    },
    {
      "cell_type": "code",
      "source": "df.loc[df['Opening Rank'].str.contains('P'),'Preparatory']=True",
      "metadata": {
        "trusted": true
      },
      "execution_count": 61,
      "outputs": []
    },
    {
      "cell_type": "code",
      "source": "df['Preparatory'].sum()",
      "metadata": {
        "trusted": true
      },
      "execution_count": 63,
      "outputs": [
        {
          "execution_count": 63,
          "output_type": "execute_result",
          "data": {
            "text/plain": "4910"
          },
          "metadata": {}
        }
      ]
    },
    {
      "cell_type": "code",
      "source": "df['Opening Rank']=df['Opening Rank'].str.replace('P',(''))",
      "metadata": {
        "trusted": true
      },
      "execution_count": 65,
      "outputs": []
    },
    {
      "cell_type": "code",
      "source": "df['Closing Rank']=df['Closing Rank'].str.replace('P',(''))",
      "metadata": {
        "trusted": true
      },
      "execution_count": 66,
      "outputs": []
    },
    {
      "cell_type": "code",
      "source": "df['Closing Rank']=pd.to_numeric(df['Closing Rank'])",
      "metadata": {
        "trusted": true
      },
      "execution_count": 67,
      "outputs": []
    },
    {
      "cell_type": "code",
      "source": "df['Opening Rank']=pd.to_numeric(df['Opening Rank'])",
      "metadata": {
        "trusted": true
      },
      "execution_count": 68,
      "outputs": []
    },
    {
      "cell_type": "code",
      "source": "df.dtypes",
      "metadata": {
        "trusted": true
      },
      "execution_count": 74,
      "outputs": [
        {
          "execution_count": 74,
          "output_type": "execute_result",
          "data": {
            "text/plain": "Institute                object\nAcademic Program Name    object\nSeat Type                object\nGender                   object\nOpening Rank              int64\nClosing Rank              int64\nYear                      int64\nRound                     int64\nPreparatory                bool\ndtype: object"
          },
          "metadata": {}
        }
      ]
    },
    {
      "cell_type": "code",
      "source": "df['Closing Rank']=df['Closing Rank'].apply(np.int64)",
      "metadata": {
        "trusted": true
      },
      "execution_count": 71,
      "outputs": []
    },
    {
      "cell_type": "code",
      "source": "df['Opening Rank']=df['Opening Rank'].apply(np.int64)",
      "metadata": {
        "trusted": true
      },
      "execution_count": 73,
      "outputs": []
    },
    {
      "cell_type": "code",
      "source": "df.head()",
      "metadata": {
        "trusted": true
      },
      "execution_count": 75,
      "outputs": [
        {
          "execution_count": 75,
          "output_type": "execute_result",
          "data": {
            "text/plain": "                                    Institute  \\\n0  Indian Institute of Technology Bhubaneswar   \n1  Indian Institute of Technology Bhubaneswar   \n2  Indian Institute of Technology Bhubaneswar   \n3  Indian Institute of Technology Bhubaneswar   \n4  Indian Institute of Technology Bhubaneswar   \n\n                               Academic Program Name Seat Type  \\\n0  Civil Engineering (4 Years, Bachelor of Techno...      OPEN   \n1  Civil Engineering (4 Years, Bachelor of Techno...   OBC-NCL   \n2  Civil Engineering (4 Years, Bachelor of Techno...        SC   \n3  Civil Engineering (4 Years, Bachelor of Techno...        ST   \n4  Civil Engineering and M. Tech. in Structural E...      OPEN   \n\n           Gender  Opening Rank  Closing Rank  Year  Round  Preparatory  \n0  Gender-Neutral          3533          5947  2016      1        False  \n1  Gender-Neutral          1829          2213  2016      1        False  \n2  Gender-Neutral           663          1023  2016      1        False  \n3  Gender-Neutral           331           357  2016      1        False  \n4  Gender-Neutral          5408          6561  2016      1        False  ",
            "text/html": "<div>\n<style scoped>\n    .dataframe tbody tr th:only-of-type {\n        vertical-align: middle;\n    }\n\n    .dataframe tbody tr th {\n        vertical-align: top;\n    }\n\n    .dataframe thead th {\n        text-align: right;\n    }\n</style>\n<table border=\"1\" class=\"dataframe\">\n  <thead>\n    <tr style=\"text-align: right;\">\n      <th></th>\n      <th>Institute</th>\n      <th>Academic Program Name</th>\n      <th>Seat Type</th>\n      <th>Gender</th>\n      <th>Opening Rank</th>\n      <th>Closing Rank</th>\n      <th>Year</th>\n      <th>Round</th>\n      <th>Preparatory</th>\n    </tr>\n  </thead>\n  <tbody>\n    <tr>\n      <th>0</th>\n      <td>Indian Institute of Technology Bhubaneswar</td>\n      <td>Civil Engineering (4 Years, Bachelor of Techno...</td>\n      <td>OPEN</td>\n      <td>Gender-Neutral</td>\n      <td>3533</td>\n      <td>5947</td>\n      <td>2016</td>\n      <td>1</td>\n      <td>False</td>\n    </tr>\n    <tr>\n      <th>1</th>\n      <td>Indian Institute of Technology Bhubaneswar</td>\n      <td>Civil Engineering (4 Years, Bachelor of Techno...</td>\n      <td>OBC-NCL</td>\n      <td>Gender-Neutral</td>\n      <td>1829</td>\n      <td>2213</td>\n      <td>2016</td>\n      <td>1</td>\n      <td>False</td>\n    </tr>\n    <tr>\n      <th>2</th>\n      <td>Indian Institute of Technology Bhubaneswar</td>\n      <td>Civil Engineering (4 Years, Bachelor of Techno...</td>\n      <td>SC</td>\n      <td>Gender-Neutral</td>\n      <td>663</td>\n      <td>1023</td>\n      <td>2016</td>\n      <td>1</td>\n      <td>False</td>\n    </tr>\n    <tr>\n      <th>3</th>\n      <td>Indian Institute of Technology Bhubaneswar</td>\n      <td>Civil Engineering (4 Years, Bachelor of Techno...</td>\n      <td>ST</td>\n      <td>Gender-Neutral</td>\n      <td>331</td>\n      <td>357</td>\n      <td>2016</td>\n      <td>1</td>\n      <td>False</td>\n    </tr>\n    <tr>\n      <th>4</th>\n      <td>Indian Institute of Technology Bhubaneswar</td>\n      <td>Civil Engineering and M. Tech. in Structural E...</td>\n      <td>OPEN</td>\n      <td>Gender-Neutral</td>\n      <td>5408</td>\n      <td>6561</td>\n      <td>2016</td>\n      <td>1</td>\n      <td>False</td>\n    </tr>\n  </tbody>\n</table>\n</div>"
          },
          "metadata": {}
        }
      ]
    },
    {
      "cell_type": "code",
      "source": "df.isna().sum()",
      "metadata": {
        "trusted": true
      },
      "execution_count": 76,
      "outputs": [
        {
          "execution_count": 76,
          "output_type": "execute_result",
          "data": {
            "text/plain": "Institute                0\nAcademic Program Name    0\nSeat Type                0\nGender                   0\nOpening Rank             0\nClosing Rank             0\nYear                     0\nRound                    0\nPreparatory              0\ndtype: int64"
          },
          "metadata": {}
        }
      ]
    },
    {
      "cell_type": "code",
      "source": "df=df.assign(Institute_type='GFTI')\n",
      "metadata": {
        "trusted": true
      },
      "execution_count": 79,
      "outputs": []
    },
    {
      "cell_type": "code",
      "source": "df.head()",
      "metadata": {
        "trusted": true
      },
      "execution_count": 80,
      "outputs": [
        {
          "execution_count": 80,
          "output_type": "execute_result",
          "data": {
            "text/plain": "                                    Institute  \\\n0  Indian Institute of Technology Bhubaneswar   \n1  Indian Institute of Technology Bhubaneswar   \n2  Indian Institute of Technology Bhubaneswar   \n3  Indian Institute of Technology Bhubaneswar   \n4  Indian Institute of Technology Bhubaneswar   \n\n                               Academic Program Name Seat Type  \\\n0  Civil Engineering (4 Years, Bachelor of Techno...      OPEN   \n1  Civil Engineering (4 Years, Bachelor of Techno...   OBC-NCL   \n2  Civil Engineering (4 Years, Bachelor of Techno...        SC   \n3  Civil Engineering (4 Years, Bachelor of Techno...        ST   \n4  Civil Engineering and M. Tech. in Structural E...      OPEN   \n\n           Gender  Opening Rank  Closing Rank  Year  Round  Preparatory  \\\n0  Gender-Neutral          3533          5947  2016      1        False   \n1  Gender-Neutral          1829          2213  2016      1        False   \n2  Gender-Neutral           663          1023  2016      1        False   \n3  Gender-Neutral           331           357  2016      1        False   \n4  Gender-Neutral          5408          6561  2016      1        False   \n\n  Institute_type  \n0           GFTI  \n1           GFTI  \n2           GFTI  \n3           GFTI  \n4           GFTI  ",
            "text/html": "<div>\n<style scoped>\n    .dataframe tbody tr th:only-of-type {\n        vertical-align: middle;\n    }\n\n    .dataframe tbody tr th {\n        vertical-align: top;\n    }\n\n    .dataframe thead th {\n        text-align: right;\n    }\n</style>\n<table border=\"1\" class=\"dataframe\">\n  <thead>\n    <tr style=\"text-align: right;\">\n      <th></th>\n      <th>Institute</th>\n      <th>Academic Program Name</th>\n      <th>Seat Type</th>\n      <th>Gender</th>\n      <th>Opening Rank</th>\n      <th>Closing Rank</th>\n      <th>Year</th>\n      <th>Round</th>\n      <th>Preparatory</th>\n      <th>Institute_type</th>\n    </tr>\n  </thead>\n  <tbody>\n    <tr>\n      <th>0</th>\n      <td>Indian Institute of Technology Bhubaneswar</td>\n      <td>Civil Engineering (4 Years, Bachelor of Techno...</td>\n      <td>OPEN</td>\n      <td>Gender-Neutral</td>\n      <td>3533</td>\n      <td>5947</td>\n      <td>2016</td>\n      <td>1</td>\n      <td>False</td>\n      <td>GFTI</td>\n    </tr>\n    <tr>\n      <th>1</th>\n      <td>Indian Institute of Technology Bhubaneswar</td>\n      <td>Civil Engineering (4 Years, Bachelor of Techno...</td>\n      <td>OBC-NCL</td>\n      <td>Gender-Neutral</td>\n      <td>1829</td>\n      <td>2213</td>\n      <td>2016</td>\n      <td>1</td>\n      <td>False</td>\n      <td>GFTI</td>\n    </tr>\n    <tr>\n      <th>2</th>\n      <td>Indian Institute of Technology Bhubaneswar</td>\n      <td>Civil Engineering (4 Years, Bachelor of Techno...</td>\n      <td>SC</td>\n      <td>Gender-Neutral</td>\n      <td>663</td>\n      <td>1023</td>\n      <td>2016</td>\n      <td>1</td>\n      <td>False</td>\n      <td>GFTI</td>\n    </tr>\n    <tr>\n      <th>3</th>\n      <td>Indian Institute of Technology Bhubaneswar</td>\n      <td>Civil Engineering (4 Years, Bachelor of Techno...</td>\n      <td>ST</td>\n      <td>Gender-Neutral</td>\n      <td>331</td>\n      <td>357</td>\n      <td>2016</td>\n      <td>1</td>\n      <td>False</td>\n      <td>GFTI</td>\n    </tr>\n    <tr>\n      <th>4</th>\n      <td>Indian Institute of Technology Bhubaneswar</td>\n      <td>Civil Engineering and M. Tech. in Structural E...</td>\n      <td>OPEN</td>\n      <td>Gender-Neutral</td>\n      <td>5408</td>\n      <td>6561</td>\n      <td>2016</td>\n      <td>1</td>\n      <td>False</td>\n      <td>GFTI</td>\n    </tr>\n  </tbody>\n</table>\n</div>"
          },
          "metadata": {}
        }
      ]
    },
    {
      "cell_type": "code",
      "source": "df.loc[df['Institute'].str.contains('Indian Institute of Technology'),'Institute_type']='IIT'\n",
      "metadata": {
        "trusted": true
      },
      "execution_count": 81,
      "outputs": []
    },
    {
      "cell_type": "code",
      "source": "df.head()",
      "metadata": {
        "trusted": true
      },
      "execution_count": 82,
      "outputs": [
        {
          "execution_count": 82,
          "output_type": "execute_result",
          "data": {
            "text/plain": "                                    Institute  \\\n0  Indian Institute of Technology Bhubaneswar   \n1  Indian Institute of Technology Bhubaneswar   \n2  Indian Institute of Technology Bhubaneswar   \n3  Indian Institute of Technology Bhubaneswar   \n4  Indian Institute of Technology Bhubaneswar   \n\n                               Academic Program Name Seat Type  \\\n0  Civil Engineering (4 Years, Bachelor of Techno...      OPEN   \n1  Civil Engineering (4 Years, Bachelor of Techno...   OBC-NCL   \n2  Civil Engineering (4 Years, Bachelor of Techno...        SC   \n3  Civil Engineering (4 Years, Bachelor of Techno...        ST   \n4  Civil Engineering and M. Tech. in Structural E...      OPEN   \n\n           Gender  Opening Rank  Closing Rank  Year  Round  Preparatory  \\\n0  Gender-Neutral          3533          5947  2016      1        False   \n1  Gender-Neutral          1829          2213  2016      1        False   \n2  Gender-Neutral           663          1023  2016      1        False   \n3  Gender-Neutral           331           357  2016      1        False   \n4  Gender-Neutral          5408          6561  2016      1        False   \n\n  Institute_type  \n0            IIT  \n1            IIT  \n2            IIT  \n3            IIT  \n4            IIT  ",
            "text/html": "<div>\n<style scoped>\n    .dataframe tbody tr th:only-of-type {\n        vertical-align: middle;\n    }\n\n    .dataframe tbody tr th {\n        vertical-align: top;\n    }\n\n    .dataframe thead th {\n        text-align: right;\n    }\n</style>\n<table border=\"1\" class=\"dataframe\">\n  <thead>\n    <tr style=\"text-align: right;\">\n      <th></th>\n      <th>Institute</th>\n      <th>Academic Program Name</th>\n      <th>Seat Type</th>\n      <th>Gender</th>\n      <th>Opening Rank</th>\n      <th>Closing Rank</th>\n      <th>Year</th>\n      <th>Round</th>\n      <th>Preparatory</th>\n      <th>Institute_type</th>\n    </tr>\n  </thead>\n  <tbody>\n    <tr>\n      <th>0</th>\n      <td>Indian Institute of Technology Bhubaneswar</td>\n      <td>Civil Engineering (4 Years, Bachelor of Techno...</td>\n      <td>OPEN</td>\n      <td>Gender-Neutral</td>\n      <td>3533</td>\n      <td>5947</td>\n      <td>2016</td>\n      <td>1</td>\n      <td>False</td>\n      <td>IIT</td>\n    </tr>\n    <tr>\n      <th>1</th>\n      <td>Indian Institute of Technology Bhubaneswar</td>\n      <td>Civil Engineering (4 Years, Bachelor of Techno...</td>\n      <td>OBC-NCL</td>\n      <td>Gender-Neutral</td>\n      <td>1829</td>\n      <td>2213</td>\n      <td>2016</td>\n      <td>1</td>\n      <td>False</td>\n      <td>IIT</td>\n    </tr>\n    <tr>\n      <th>2</th>\n      <td>Indian Institute of Technology Bhubaneswar</td>\n      <td>Civil Engineering (4 Years, Bachelor of Techno...</td>\n      <td>SC</td>\n      <td>Gender-Neutral</td>\n      <td>663</td>\n      <td>1023</td>\n      <td>2016</td>\n      <td>1</td>\n      <td>False</td>\n      <td>IIT</td>\n    </tr>\n    <tr>\n      <th>3</th>\n      <td>Indian Institute of Technology Bhubaneswar</td>\n      <td>Civil Engineering (4 Years, Bachelor of Techno...</td>\n      <td>ST</td>\n      <td>Gender-Neutral</td>\n      <td>331</td>\n      <td>357</td>\n      <td>2016</td>\n      <td>1</td>\n      <td>False</td>\n      <td>IIT</td>\n    </tr>\n    <tr>\n      <th>4</th>\n      <td>Indian Institute of Technology Bhubaneswar</td>\n      <td>Civil Engineering and M. Tech. in Structural E...</td>\n      <td>OPEN</td>\n      <td>Gender-Neutral</td>\n      <td>5408</td>\n      <td>6561</td>\n      <td>2016</td>\n      <td>1</td>\n      <td>False</td>\n      <td>IIT</td>\n    </tr>\n  </tbody>\n</table>\n</div>"
          },
          "metadata": {}
        }
      ]
    },
    {
      "cell_type": "code",
      "source": "df['Institute'].str.contains('National Institute of Technology').sum()",
      "metadata": {
        "trusted": true
      },
      "execution_count": 84,
      "outputs": [
        {
          "execution_count": 84,
          "output_type": "execute_result",
          "data": {
            "text/plain": "0"
          },
          "metadata": {}
        }
      ]
    },
    {
      "cell_type": "code",
      "source": "df.to_csv('final.csv')",
      "metadata": {
        "trusted": true
      },
      "execution_count": 85,
      "outputs": []
    },
    {
      "cell_type": "code",
      "source": "df.head()",
      "metadata": {
        "trusted": true
      },
      "execution_count": 86,
      "outputs": [
        {
          "execution_count": 86,
          "output_type": "execute_result",
          "data": {
            "text/plain": "                                    Institute  \\\n0  Indian Institute of Technology Bhubaneswar   \n1  Indian Institute of Technology Bhubaneswar   \n2  Indian Institute of Technology Bhubaneswar   \n3  Indian Institute of Technology Bhubaneswar   \n4  Indian Institute of Technology Bhubaneswar   \n\n                               Academic Program Name Seat Type  \\\n0  Civil Engineering (4 Years, Bachelor of Techno...      OPEN   \n1  Civil Engineering (4 Years, Bachelor of Techno...   OBC-NCL   \n2  Civil Engineering (4 Years, Bachelor of Techno...        SC   \n3  Civil Engineering (4 Years, Bachelor of Techno...        ST   \n4  Civil Engineering and M. Tech. in Structural E...      OPEN   \n\n           Gender  Opening Rank  Closing Rank  Year  Round  Preparatory  \\\n0  Gender-Neutral          3533          5947  2016      1        False   \n1  Gender-Neutral          1829          2213  2016      1        False   \n2  Gender-Neutral           663          1023  2016      1        False   \n3  Gender-Neutral           331           357  2016      1        False   \n4  Gender-Neutral          5408          6561  2016      1        False   \n\n  Institute_type  \n0            IIT  \n1            IIT  \n2            IIT  \n3            IIT  \n4            IIT  ",
            "text/html": "<div>\n<style scoped>\n    .dataframe tbody tr th:only-of-type {\n        vertical-align: middle;\n    }\n\n    .dataframe tbody tr th {\n        vertical-align: top;\n    }\n\n    .dataframe thead th {\n        text-align: right;\n    }\n</style>\n<table border=\"1\" class=\"dataframe\">\n  <thead>\n    <tr style=\"text-align: right;\">\n      <th></th>\n      <th>Institute</th>\n      <th>Academic Program Name</th>\n      <th>Seat Type</th>\n      <th>Gender</th>\n      <th>Opening Rank</th>\n      <th>Closing Rank</th>\n      <th>Year</th>\n      <th>Round</th>\n      <th>Preparatory</th>\n      <th>Institute_type</th>\n    </tr>\n  </thead>\n  <tbody>\n    <tr>\n      <th>0</th>\n      <td>Indian Institute of Technology Bhubaneswar</td>\n      <td>Civil Engineering (4 Years, Bachelor of Techno...</td>\n      <td>OPEN</td>\n      <td>Gender-Neutral</td>\n      <td>3533</td>\n      <td>5947</td>\n      <td>2016</td>\n      <td>1</td>\n      <td>False</td>\n      <td>IIT</td>\n    </tr>\n    <tr>\n      <th>1</th>\n      <td>Indian Institute of Technology Bhubaneswar</td>\n      <td>Civil Engineering (4 Years, Bachelor of Techno...</td>\n      <td>OBC-NCL</td>\n      <td>Gender-Neutral</td>\n      <td>1829</td>\n      <td>2213</td>\n      <td>2016</td>\n      <td>1</td>\n      <td>False</td>\n      <td>IIT</td>\n    </tr>\n    <tr>\n      <th>2</th>\n      <td>Indian Institute of Technology Bhubaneswar</td>\n      <td>Civil Engineering (4 Years, Bachelor of Techno...</td>\n      <td>SC</td>\n      <td>Gender-Neutral</td>\n      <td>663</td>\n      <td>1023</td>\n      <td>2016</td>\n      <td>1</td>\n      <td>False</td>\n      <td>IIT</td>\n    </tr>\n    <tr>\n      <th>3</th>\n      <td>Indian Institute of Technology Bhubaneswar</td>\n      <td>Civil Engineering (4 Years, Bachelor of Techno...</td>\n      <td>ST</td>\n      <td>Gender-Neutral</td>\n      <td>331</td>\n      <td>357</td>\n      <td>2016</td>\n      <td>1</td>\n      <td>False</td>\n      <td>IIT</td>\n    </tr>\n    <tr>\n      <th>4</th>\n      <td>Indian Institute of Technology Bhubaneswar</td>\n      <td>Civil Engineering and M. Tech. in Structural E...</td>\n      <td>OPEN</td>\n      <td>Gender-Neutral</td>\n      <td>5408</td>\n      <td>6561</td>\n      <td>2016</td>\n      <td>1</td>\n      <td>False</td>\n      <td>IIT</td>\n    </tr>\n  </tbody>\n</table>\n</div>"
          },
          "metadata": {}
        }
      ]
    },
    {
      "cell_type": "code",
      "source": "",
      "metadata": {},
      "execution_count": null,
      "outputs": []
    }
  ]
}